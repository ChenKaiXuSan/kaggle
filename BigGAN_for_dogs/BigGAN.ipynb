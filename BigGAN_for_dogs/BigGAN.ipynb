{
 "cells": [
  {
   "cell_type": "code",
   "execution_count": 6,
   "source": [
    "import numpy as np\n",
    "import pandas as pd\n",
    "\n",
    "import matplotlib.pyplot as plt \n",
    "import matplotlib.image as mpimg\n",
    "%matplotlib inline\n",
    "\n",
    "import torch\n",
    "from torch import nn, optim\n",
    "from torch import autograd\n",
    "import torch.nn.functional as F\n",
    "from torch.nn import Parameter\n",
    "\n",
    "from torchvision import datasets, transforms\n",
    "from torchvision.utils import save_image\n",
    "from torch.utils.data import Dataset, DataLoader, Subset\n",
    "from PIL import Image, ImageOps, ImageEnhance\n",
    "\n",
    "import cv2\n",
    "import albumentations as A\n",
    "# from albumentations.pytorch import ToTensor\n",
    "\n",
    "import glob\n",
    "import xml.etree.ElementTree as ET \n",
    "import shutil\n",
    "from tqdm import tqdm\n",
    "import time\n",
    "import random\n",
    "\n",
    "\n",
    "import os \n",
    "print(os.listdir('../data/generative-dog-images'))"
   ],
   "outputs": [
    {
     "output_type": "stream",
     "name": "stdout",
     "text": [
      "['all-dogs.zip', 'Annotation.zip', 'all-dogs', 'Annotation']\n"
     ]
    }
   ],
   "metadata": {}
  },
  {
   "cell_type": "code",
   "execution_count": 7,
   "source": [
    "TIME_LIMIT = 32400 - 60 * 10\n",
    "start_time = time.time()\n",
    "\n",
    "def elapsed_time(start_time):\n",
    "    return time.time() - start_time"
   ],
   "outputs": [],
   "metadata": {}
  },
  {
   "cell_type": "code",
   "execution_count": 8,
   "source": [
    "# random seeds\n",
    "seed = 2019\n",
    "random.seed(seed)\n",
    "torch.manual_seed(seed)\n",
    "torch.cuda.manual_seed_all(seed)\n",
    "np.random.seed(seed)\n",
    "os.environ['PYTHONHASHSEED'] = str(seed)\n",
    "\n",
    "BATCH_SIZE = 32\n",
    "NUM_WORKERS = 4\n",
    "EMA = False\n",
    "LABEL_NOISE = False\n",
    "LABEL_NOISE_PROB = 0.1"
   ],
   "outputs": [],
   "metadata": {}
  },
  {
   "cell_type": "markdown",
   "source": [
    "# Pre-Processing"
   ],
   "metadata": {}
  },
  {
   "cell_type": "code",
   "execution_count": 10,
   "source": [
    "PATH = '../data/generative-dog-images/all-dogs/all-dogs'\n",
    "img_filnames = os.listdir(PATH)\n",
    "len(img_filnames)"
   ],
   "outputs": [
    {
     "output_type": "execute_result",
     "data": {
      "text/plain": [
       "20579"
      ]
     },
     "metadata": {},
     "execution_count": 10
    }
   ],
   "metadata": {}
  },
  {
   "cell_type": "code",
   "execution_count": 13,
   "source": [
    "PATH_ANNOTATION = '../data/generative-dog-images/Annotation/Annotation/'\n",
    "breeds = glob.glob(PATH_ANNOTATION + '*')\n",
    "annotations = []\n",
    "for breed in breeds:\n",
    "    annotations += glob.glob(breed + '/*')\n",
    "len(annotations)"
   ],
   "outputs": [
    {
     "output_type": "execute_result",
     "data": {
      "text/plain": [
       "20580"
      ]
     },
     "metadata": {},
     "execution_count": 13
    }
   ],
   "metadata": {}
  },
  {
   "cell_type": "code",
   "execution_count": 15,
   "source": [
    "breed_map = {}\n",
    "for annotation in annotations:\n",
    "    breed = annotation.split('/')[-2]\n",
    "    index = breed.split('-')[0]\n",
    "    breed_map.setdefault(index, breed)\n",
    "\n",
    "n_classes = len(breed_map)\n",
    "n_classes"
   ],
   "outputs": [
    {
     "output_type": "execute_result",
     "data": {
      "text/plain": [
       "120"
      ]
     },
     "metadata": {},
     "execution_count": 15
    }
   ],
   "metadata": {}
  },
  {
   "cell_type": "code",
   "execution_count": null,
   "source": [],
   "outputs": [],
   "metadata": {}
  }
 ],
 "metadata": {
  "orig_nbformat": 4,
  "language_info": {
   "name": "python",
   "version": "3.7.10",
   "mimetype": "text/x-python",
   "codemirror_mode": {
    "name": "ipython",
    "version": 3
   },
   "pygments_lexer": "ipython3",
   "nbconvert_exporter": "python",
   "file_extension": ".py"
  },
  "kernelspec": {
   "name": "python3",
   "display_name": "Python 3.7.10 64-bit ('base': conda)"
  },
  "interpreter": {
   "hash": "39bb97b9402fe54965182cdecdf1de398681b71a98db533a4cd01c0e11e7c257"
  }
 },
 "nbformat": 4,
 "nbformat_minor": 2
}