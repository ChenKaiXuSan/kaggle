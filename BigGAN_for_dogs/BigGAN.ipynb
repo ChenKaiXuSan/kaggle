{
 "cells": [
  {
   "cell_type": "code",
   "execution_count": 1,
   "source": [
    "import numpy as np\n",
    "import pandas as pd\n",
    "\n",
    "import matplotlib.pyplot as plt \n",
    "import matplotlib.image as mpimg\n",
    "%matplotlib inline\n",
    "\n",
    "import torch\n",
    "from torch import nn, optim\n",
    "from torch import autograd\n",
    "import torch.nn.functional as F\n",
    "from torch.nn import Parameter\n",
    "\n",
    "from torchvision import datasets, transforms\n",
    "from torchvision.utils import save_image\n",
    "from torch.utils.data import Dataset, DataLoader, Subset\n",
    "from PIL import Image, ImageOps, ImageEnhance\n",
    "\n",
    "import cv2\n",
    "import albumentations as A\n",
    "# from albumentations.pytorch import ToTensor\n",
    "\n",
    "import glob\n",
    "import xml.etree.ElementTree as ET \n",
    "import shutil\n",
    "from tqdm import tqdm\n",
    "import time\n",
    "import random\n",
    "\n",
    "\n",
    "import os \n",
    "print(os.listdir('../data/generative-dog-images'))"
   ],
   "outputs": [
    {
     "output_type": "stream",
     "name": "stdout",
     "text": [
      "['all-dogs.zip', 'Annotation.zip', 'all-dogs', 'Annotation']\n"
     ]
    }
   ],
   "metadata": {}
  },
  {
   "cell_type": "code",
   "execution_count": 2,
   "source": [
    "TIME_LIMIT = 32400 - 60 * 10\n",
    "start_time = time.time()\n",
    "\n",
    "def elapsed_time(start_time):\n",
    "    return time.time() - start_time"
   ],
   "outputs": [],
   "metadata": {}
  },
  {
   "cell_type": "code",
   "execution_count": 3,
   "source": [
    "# random seeds\n",
    "seed = 2019\n",
    "random.seed(seed)\n",
    "torch.manual_seed(seed)\n",
    "torch.cuda.manual_seed_all(seed)\n",
    "np.random.seed(seed)\n",
    "os.environ['PYTHONHASHSEED'] = str(seed)\n",
    "\n",
    "BATCH_SIZE = 32\n",
    "NUM_WORKERS = 4\n",
    "EMA = False\n",
    "LABEL_NOISE = False\n",
    "LABEL_NOISE_PROB = 0.1"
   ],
   "outputs": [],
   "metadata": {}
  },
  {
   "cell_type": "markdown",
   "source": [
    "# Pre-Processing"
   ],
   "metadata": {}
  },
  {
   "cell_type": "code",
   "execution_count": 4,
   "source": [
    "PATH = '../data/generative-dog-images/all-dogs/all-dogs'\n",
    "img_filnames = os.listdir(PATH)\n",
    "len(img_filnames)"
   ],
   "outputs": [
    {
     "output_type": "execute_result",
     "data": {
      "text/plain": [
       "20579"
      ]
     },
     "metadata": {},
     "execution_count": 4
    }
   ],
   "metadata": {}
  },
  {
   "cell_type": "code",
   "execution_count": 5,
   "source": [
    "PATH_ANNOTATION = '../data/generative-dog-images/Annotation/Annotation/'\n",
    "breeds = glob.glob(PATH_ANNOTATION + '*')\n",
    "annotations = []\n",
    "for breed in breeds:\n",
    "    annotations += glob.glob(breed + '/*')\n",
    "len(annotations)"
   ],
   "outputs": [
    {
     "output_type": "execute_result",
     "data": {
      "text/plain": [
       "20580"
      ]
     },
     "metadata": {},
     "execution_count": 5
    }
   ],
   "metadata": {}
  },
  {
   "cell_type": "code",
   "execution_count": 6,
   "source": [
    "breed_map = {}\n",
    "for annotation in annotations:\n",
    "    breed = annotation.split('/')[-2]\n",
    "    index = breed.split('-')[0]\n",
    "    breed_map.setdefault(index, breed)\n",
    "\n",
    "n_classes = len(breed_map)\n",
    "n_classes"
   ],
   "outputs": [
    {
     "output_type": "execute_result",
     "data": {
      "text/plain": [
       "120"
      ]
     },
     "metadata": {},
     "execution_count": 6
    }
   ],
   "metadata": {}
  },
  {
   "cell_type": "code",
   "execution_count": 7,
   "source": [
    "breed_map"
   ],
   "outputs": [
    {
     "output_type": "execute_result",
     "data": {
      "text/plain": [
       "{'n02092002': 'n02092002-Scottish_deerhound',\n",
       " 'n02099849': 'n02099849-Chesapeake_Bay_retriever',\n",
       " 'n02091244': 'n02091244-Ibizan_hound',\n",
       " 'n02095314': 'n02095314-wire-haired_fox_terrier',\n",
       " 'n02091831': 'n02091831-Saluki',\n",
       " 'n02102318': 'n02102318-cocker_spaniel',\n",
       " 'n02104365': 'n02104365-schipperke',\n",
       " 'n02090622': 'n02090622-borzoi',\n",
       " 'n02113023': 'n02113023-Pembroke',\n",
       " 'n02105505': 'n02105505-komondor',\n",
       " 'n02099601': 'n02099601-golden_retriever',\n",
       " 'n02085782': 'n02085782-Japanese_spaniel',\n",
       " 'n02110063': 'n02110063-malamute',\n",
       " 'n02086079': 'n02086079-Pekinese',\n",
       " 'n02097130': 'n02097130-giant_schnauzer',\n",
       " 'n02107142': 'n02107142-Doberman',\n",
       " 'n02097209': 'n02097209-standard_schnauzer',\n",
       " 'n02106662': 'n02106662-German_shepherd',\n",
       " 'n02093754': 'n02093754-Border_terrier',\n",
       " 'n02105251': 'n02105251-briard',\n",
       " 'n02108551': 'n02108551-Tibetan_mastiff',\n",
       " 'n02108422': 'n02108422-bull_mastiff',\n",
       " 'n02093859': 'n02093859-Kerry_blue_terrier',\n",
       " 'n02104029': 'n02104029-kuvasz',\n",
       " 'n02107574': 'n02107574-Greater_Swiss_Mountain_dog',\n",
       " 'n02095570': 'n02095570-Lakeland_terrier',\n",
       " 'n02106166': 'n02106166-Border_collie',\n",
       " 'n02090379': 'n02090379-redbone',\n",
       " 'n02113712': 'n02113712-miniature_poodle',\n",
       " 'n02113186': 'n02113186-Cardigan',\n",
       " 'n02108000': 'n02108000-EntleBucher',\n",
       " 'n02091467': 'n02091467-Norwegian_elkhound',\n",
       " 'n02100236': 'n02100236-German_short-haired_pointer',\n",
       " 'n02107683': 'n02107683-Bernese_mountain_dog',\n",
       " 'n02086910': 'n02086910-papillon',\n",
       " 'n02097474': 'n02097474-Tibetan_terrier',\n",
       " 'n02093428': 'n02093428-American_Staffordshire_terrier',\n",
       " 'n02092339': 'n02092339-Weimaraner',\n",
       " 'n02108089': 'n02108089-boxer',\n",
       " 'n02105641': 'n02105641-Old_English_sheepdog',\n",
       " 'n02110958': 'n02110958-pug',\n",
       " 'n02087394': 'n02087394-Rhodesian_ridgeback',\n",
       " 'n02097298': 'n02097298-Scotch_terrier',\n",
       " 'n02099267': 'n02099267-flat-coated_retriever',\n",
       " 'n02099712': 'n02099712-Labrador_retriever',\n",
       " 'n02096177': 'n02096177-cairn',\n",
       " 'n02111277': 'n02111277-Newfoundland',\n",
       " 'n02089867': 'n02089867-Walker_hound',\n",
       " 'n02098413': 'n02098413-Lhasa',\n",
       " 'n02088364': 'n02088364-beagle',\n",
       " 'n02111889': 'n02111889-Samoyed',\n",
       " 'n02096051': 'n02096051-Airedale',\n",
       " 'n02088466': 'n02088466-bloodhound',\n",
       " 'n02093647': 'n02093647-Bedlington_terrier',\n",
       " 'n02101556': 'n02101556-clumber',\n",
       " 'n02113624': 'n02113624-toy_poodle',\n",
       " 'n02111500': 'n02111500-Great_Pyrenees',\n",
       " 'n02115641': 'n02115641-dingo',\n",
       " 'n02102040': 'n02102040-English_springer',\n",
       " 'n02088094': 'n02088094-Afghan_hound',\n",
       " 'n02101388': 'n02101388-Brittany_spaniel',\n",
       " 'n02096585': 'n02096585-Boston_bull',\n",
       " 'n02099429': 'n02099429-curly-coated_retriever',\n",
       " 'n02102973': 'n02102973-Irish_water_spaniel',\n",
       " 'n02112706': 'n02112706-Brabancon_griffon',\n",
       " 'n02105056': 'n02105056-groenendael',\n",
       " 'n02111129': 'n02111129-Leonberg',\n",
       " 'n02097658': 'n02097658-silky_terrier',\n",
       " 'n02093256': 'n02093256-Staffordshire_bullterrier',\n",
       " 'n02113799': 'n02113799-standard_poodle',\n",
       " 'n02109961': 'n02109961-Eskimo_dog',\n",
       " 'n02089973': 'n02089973-English_foxhound',\n",
       " 'n02095889': 'n02095889-Sealyham_terrier',\n",
       " 'n02097047': 'n02097047-miniature_schnauzer',\n",
       " 'n02105162': 'n02105162-malinois',\n",
       " 'n02113978': 'n02113978-Mexican_hairless',\n",
       " 'n02115913': 'n02115913-dhole',\n",
       " 'n02106382': 'n02106382-Bouvier_des_Flandres',\n",
       " 'n02110185': 'n02110185-Siberian_husky',\n",
       " 'n02094258': 'n02094258-Norwich_terrier',\n",
       " 'n02093991': 'n02093991-Irish_terrier',\n",
       " 'n02094114': 'n02094114-Norfolk_terrier',\n",
       " 'n02109525': 'n02109525-Saint_Bernard',\n",
       " 'n02085936': 'n02085936-Maltese_dog',\n",
       " 'n02086646': 'n02086646-Blenheim_spaniel',\n",
       " 'n02088238': 'n02088238-basset',\n",
       " 'n02098286': 'n02098286-West_Highland_white_terrier',\n",
       " 'n02085620': 'n02085620-Chihuahua',\n",
       " 'n02090721': 'n02090721-Irish_wolfhound',\n",
       " 'n02088632': 'n02088632-bluetick',\n",
       " 'n02101006': 'n02101006-Gordon_setter',\n",
       " 'n02100583': 'n02100583-vizsla',\n",
       " 'n02105412': 'n02105412-kelpie',\n",
       " 'n02107312': 'n02107312-miniature_pinscher',\n",
       " 'n02112137': 'n02112137-chow',\n",
       " 'n02086240': 'n02086240-Shih-Tzu',\n",
       " 'n02110627': 'n02110627-affenpinscher',\n",
       " 'n02091134': 'n02091134-whippet',\n",
       " 'n02102480': 'n02102480-Sussex_spaniel',\n",
       " 'n02091635': 'n02091635-otterhound',\n",
       " 'n02100735': 'n02100735-English_setter',\n",
       " 'n02091032': 'n02091032-Italian_greyhound',\n",
       " 'n02106030': 'n02106030-collie',\n",
       " 'n02106550': 'n02106550-Rottweiler',\n",
       " 'n02096294': 'n02096294-Australian_terrier',\n",
       " 'n02087046': 'n02087046-toy_terrier',\n",
       " 'n02105855': 'n02105855-Shetland_sheepdog',\n",
       " 'n02116738': 'n02116738-African_hunting_dog',\n",
       " 'n02109047': 'n02109047-Great_Dane',\n",
       " 'n02100877': 'n02100877-Irish_setter',\n",
       " 'n02112350': 'n02112350-keeshond',\n",
       " 'n02096437': 'n02096437-Dandie_Dinmont',\n",
       " 'n02110806': 'n02110806-basenji',\n",
       " 'n02107908': 'n02107908-Appenzeller',\n",
       " 'n02102177': 'n02102177-Welsh_springer_spaniel',\n",
       " 'n02098105': 'n02098105-soft-coated_wheaten_terrier',\n",
       " 'n02108915': 'n02108915-French_bulldog',\n",
       " 'n02112018': 'n02112018-Pomeranian',\n",
       " 'n02094433': 'n02094433-Yorkshire_terrier',\n",
       " 'n02089078': 'n02089078-black-and-tan_coonhound'}"
      ]
     },
     "metadata": {},
     "execution_count": 7
    }
   ],
   "metadata": {}
  },
  {
   "cell_type": "code",
   "execution_count": 8,
   "source": [
    "# crop images using bounding box \n",
    "def bounding_box(img):\n",
    "    bpath = PATH_ANNOTATION + str(breed_map[img.split('_')[0]]) + '/' + str(img.split('.')[0])\n",
    "    tree = ET.parse(bpath)\n",
    "    root = tree.getroot()\n",
    "    objects = root.findall('object')\n",
    "    bbxs = []\n",
    "    for o in objects:\n",
    "        bndbox = o.find('bndbox') # reading bound box \n",
    "        xmin = int(bndbox.find('xmin').text)\n",
    "        ymin = int(bndbox.find('ymin').text)\n",
    "        xmax = int(bndbox.find('xmax').text)\n",
    "        ymax = int(bndbox.find('ymax').text)\n",
    "        bbxs.append((xmin, ymin, xmax, ymax))\n",
    "    return bbxs"
   ],
   "outputs": [],
   "metadata": {}
  },
  {
   "cell_type": "code",
   "execution_count": 9,
   "source": [
    "def bounding_box_ratio(img):\n",
    "    bpath = PATH_ANNOTATION + str(breed_map[img.split('_')[0]]) + '/' + str(img.split('.')[0])\n",
    "    tree = ET.parse(bpath)\n",
    "    root = tree.getroot()\n",
    "    objects = root.findall('object')\n",
    "    bbx_ratios = []\n",
    "    for o in objects:\n",
    "        bndbox = o.find('bndbox') # reading bound box \n",
    "        xmin = int(bndbox.find('xmin').text)\n",
    "        ymin = int(bndbox.find('ymin').text)\n",
    "        xmax = int(bndbox.find('xmax').text)\n",
    "        ymax = int(bndbox.find('ymax').text)\n",
    "\n",
    "        xlen = xmax - xmin\n",
    "        ylen = ymax - ymin\n",
    "        ratio = ylen / xlen\n",
    "\n",
    "        bbx_ratios.append((xlen, ylen, ratio))\n",
    "    \n",
    "    return bbx_ratios"
   ],
   "outputs": [],
   "metadata": {}
  },
  {
   "cell_type": "code",
   "execution_count": 10,
   "source": [
    "%%time\n",
    "# threshold for aspect ratio, at the same time idx for each bbx \n",
    "img_filnames_th = []\n",
    "ratios_th = []\n",
    "for img in tqdm(img_filnames):\n",
    "    bbx_ratios = bounding_box_ratio(img)\n",
    "    for i, (xlen, ylen, ratio) in enumerate(bbx_ratios):\n",
    "        if ((ratio>0.2) & (ratio<4.0)):\n",
    "            img_filnames_th.append(img[:-4] + '_' + str(i) + '.jpg')\n",
    "            ratios_th.append(ratio)\n",
    "\n",
    "ratios_th = np.array(ratios_th)\n",
    "\n",
    "print('original:', len(img_filnames))\n",
    "print('after th:', len(img_filnames_th))"
   ],
   "outputs": [
    {
     "output_type": "stream",
     "name": "stderr",
     "text": [
      "100%|██████████| 20579/20579 [00:25<00:00, 821.82it/s]"
     ]
    },
    {
     "output_type": "stream",
     "name": "stdout",
     "text": [
      "original: 20579\n",
      "after th: 22119\n",
      "CPU times: user 2.45 s, sys: 808 ms, total: 3.25 s\n",
      "Wall time: 25.1 s\n"
     ]
    },
    {
     "output_type": "stream",
     "name": "stderr",
     "text": [
      "\n"
     ]
    }
   ],
   "metadata": {}
  },
  {
   "cell_type": "code",
   "execution_count": 11,
   "source": [
    "intruders = [\n",
    "    #n02088238-basset\n",
    "    'n02088238_10870_0.jpg',\n",
    "    \n",
    "    #n02088466-bloodhound\n",
    "    'n02088466_6901_1.jpg',\n",
    "    'n02088466_6963_0.jpg',\n",
    "    'n02088466_9167_0.jpg',\n",
    "    'n02088466_9167_1.jpg',\n",
    "    'n02088466_9167_2.jpg',\n",
    "    \n",
    "    #n02089867-Walker_hound\n",
    "    'n02089867_2221_0.jpg',\n",
    "    'n02089867_2227_1.jpg',\n",
    "    \n",
    "    #n02089973-English_foxhound # No details\n",
    "    'n02089973_1132_3.jpg',\n",
    "    'n02089973_1352_3.jpg',\n",
    "    'n02089973_1458_1.jpg',\n",
    "    'n02089973_1799_2.jpg',\n",
    "    'n02089973_2791_3.jpg',\n",
    "    'n02089973_4055_0.jpg',\n",
    "    'n02089973_4185_1.jpg',\n",
    "    'n02089973_4185_2.jpg',\n",
    "    \n",
    "    #n02090379-redbone\n",
    "    'n02090379_4673_1.jpg',\n",
    "    'n02090379_4875_1.jpg',\n",
    "    \n",
    "    #n02090622-borzoi # Confusing\n",
    "    'n02090622_7705_1.jpg',\n",
    "    'n02090622_9358_1.jpg',\n",
    "    'n02090622_9883_1.jpg',\n",
    "    \n",
    "    #n02090721-Irish_wolfhound # very small\n",
    "    'n02090721_209_1.jpg',\n",
    "    'n02090721_1222_1.jpg',\n",
    "    'n02090721_1534_1.jpg',\n",
    "    'n02090721_1835_1.jpg',\n",
    "    'n02090721_3999_1.jpg',\n",
    "    'n02090721_4089_1.jpg',\n",
    "    'n02090721_4276_2.jpg',\n",
    "    \n",
    "    #n02091032-Italian_greyhound\n",
    "    'n02091032_722_1.jpg',\n",
    "    'n02091032_745_1.jpg',\n",
    "    'n02091032_1773_0.jpg',\n",
    "    'n02091032_9592_0.jpg',\n",
    "    \n",
    "    #n02091134-whippet\n",
    "    'n02091134_2349_1.jpg',\n",
    "    'n02091134_14246_2.jpg',\n",
    "    \n",
    "    #n02091244-Ibizan_hound\n",
    "    'n02091244_583_1.jpg',\n",
    "    'n02091244_2407_0.jpg',\n",
    "    'n02091244_3438_1.jpg',\n",
    "    'n02091244_5639_1.jpg',\n",
    "    'n02091244_5639_2.jpg',\n",
    "    \n",
    "    #n02091467-Norwegian_elkhound\n",
    "    'n02091467_473_0.jpg',\n",
    "    'n02091467_4386_1.jpg',\n",
    "    'n02091467_4427_1.jpg',\n",
    "    'n02091467_4558_1.jpg',\n",
    "    'n02091467_4560_1.jpg',\n",
    "    \n",
    "    #n02091635-otterhound\n",
    "    'n02091635_1192_1.jpg',\n",
    "    'n02091635_4422_0.jpg',\n",
    "    \n",
    "    #n02091831-Saluki\n",
    "    'n02091831_1594_1.jpg',\n",
    "    'n02091831_2880_0.jpg',\n",
    "    'n02091831_7237_1.jpg',\n",
    "    \n",
    "    #n02092002-Scottish_deerhound\n",
    "    'n02092002_1551_1.jpg',\n",
    "    'n02092002_1937_1.jpg',\n",
    "    'n02092002_4218_0.jpg',\n",
    "    'n02092002_4596_0.jpg',\n",
    "    'n02092002_5246_1.jpg',\n",
    "    'n02092002_6518_0.jpg',\n",
    "    \n",
    "    #02093256-Staffordshire_bullterrier\n",
    "    'n02093256_1826_1.jpg',\n",
    "    'n02093256_4997_0.jpg',\n",
    "    'n02093256_14914_0.jpg',\n",
    "    \n",
    "    #n02093428-American_Staffordshire_terrier\n",
    "    'n02093428_5662_0.jpg',\n",
    "    'n02093428_6949_1.jpg'\n",
    "            ]\n",
    "\n",
    "len(intruders)"
   ],
   "outputs": [
    {
     "output_type": "execute_result",
     "data": {
      "text/plain": [
       "60"
      ]
     },
     "metadata": {},
     "execution_count": 11
    }
   ],
   "metadata": {}
  },
  {
   "cell_type": "code",
   "execution_count": 12,
   "source": [
    "def data_preprocessing(img_path, bbx_idx):\n",
    "    bbx = bounding_box(img_path)[bbx_idx]\n",
    "    img = Image.open(os.path.join(PATH, img_path)) # PILImage format\n",
    "    img_cropped = img.crop(bbx)\n",
    "    return img_cropped"
   ],
   "outputs": [],
   "metadata": {}
  },
  {
   "cell_type": "code",
   "execution_count": 15,
   "source": [
    "%%time \n",
    "breed_map_2 = {}\n",
    "for i, b in enumerate(breed_map.keys()):\n",
    "    breed_map_2[b] = i"
   ],
   "outputs": [
    {
     "output_type": "stream",
     "name": "stdout",
     "text": [
      "CPU times: user 34 µs, sys: 0 ns, total: 34 µs\n",
      "Wall time: 37.4 µs\n"
     ]
    }
   ],
   "metadata": {}
  },
  {
   "cell_type": "code",
   "execution_count": 19,
   "source": [
    "class DogDataset(Dataset):\n",
    "    def __init__(self, path, img_list, transform1=None, transform2=None):\n",
    "        super().__init__()\n",
    "\n",
    "        self.path = path\n",
    "        self.img_list = img_list\n",
    "        self.transform1 = transform1\n",
    "        self.transform2 = transform2\n",
    "\n",
    "        self.imgs = [] \n",
    "        self.labels = []\n",
    "        for i, full_img_path in enumerate(self.img_list):\n",
    "            if full_img_path in intruders:\n",
    "                continue\n",
    "            \n",
    "            # img \n",
    "            img_path = full_img_path[:-6] + '.jpg'\n",
    "            bbx_idx = int(full_img_path[-5])\n",
    "            img = data_preprocessing(img_path, bbx_idx)\n",
    "            if self.transform1:\n",
    "                img = self.transform1(img) # output shape=(c, h, h, w)\n",
    "            self.imgs.append(img)\n",
    "\n",
    "            # label \n",
    "            label = breed_map_2[img_path.split('_')[0]]\n",
    "            self.labels.append(label)\n",
    "\n",
    "    def __len__(self):\n",
    "        return len(self.imgs)\n",
    "\n",
    "    def __getitem__(self, idx):\n",
    "        img = self.imgs[idx]\n",
    "        if self.transform2:\n",
    "            img = self.transform2(img)\n",
    "        label = self.labels[idx]\n",
    "\n",
    "        return {'img':img, 'label':label}"
   ],
   "outputs": [],
   "metadata": {}
  },
  {
   "cell_type": "code",
   "execution_count": 20,
   "source": [
    "%%time \n",
    "# generate 64x64 images!\n",
    "img_size = 64\n",
    "batch_size = BATCH_SIZE\n",
    "MEAN1, MEAN2, MEAN3 = 0.5, 0.5, 0.5\n",
    "STD1, STD2, STD3 = 0.5, 0.5, 0.5\n",
    "\n",
    "transform1 = transforms.Compose([\n",
    "    transforms.Resize(img_size)\n",
    "])\n",
    "\n",
    "transform2 = transforms.Compose([\n",
    "    transforms.RandomCrop(img_size),\n",
    "    transforms.RandomHorizontalFlip(p=0.5),\n",
    "    transforms.ToTensor(),\n",
    "    transforms.Normalize(mean=[MEAN1, MEAN2, MEAN3], std=[STD1, STD2, STD3])\n",
    "])\n",
    "\n",
    "train_set =  DogDataset(\n",
    "    path=PATH,\n",
    "    img_list=img_filnames_th,\n",
    "    transform1=transform1,\n",
    "    transform2=transform2,\n",
    ")\n",
    "train_loader = DataLoader(\n",
    "    train_set, \n",
    "    shuffle=True, batch_size=batch_size,\n",
    "    num_workers=NUM_WORKERS, pin_memory=True\n",
    ")"
   ],
   "outputs": [
    {
     "output_type": "stream",
     "name": "stdout",
     "text": [
      "CPU times: user 1min 37s, sys: 3.57 s, total: 1min 40s\n",
      "Wall time: 2min 40s\n"
     ]
    }
   ],
   "metadata": {}
  },
  {
   "cell_type": "code",
   "execution_count": 21,
   "source": [
    "len(train_set)"
   ],
   "outputs": [
    {
     "output_type": "execute_result",
     "data": {
      "text/plain": [
       "22059"
      ]
     },
     "metadata": {},
     "execution_count": 21
    }
   ],
   "metadata": {}
  },
  {
   "cell_type": "code",
   "execution_count": 33,
   "source": [
    "img = data_preprocessing(img_filnames_th[1500][:-6] + '.jpg', 0)\n",
    "img = transform1(img)\n",
    "img "
   ],
   "outputs": [
    {
     "output_type": "execute_result",
     "data": {
      "text/plain": [
       "<PIL.Image.Image image mode=RGB size=64x76 at 0x7F7A5B82ED10>"
      ],
      "image/png": "[encoded data removed]"
     },
     "metadata": {},
     "execution_count": 33
    }
   ],
   "metadata": {}
  },
  {
   "cell_type": "markdown",
   "source": [
    "# Device"
   ],
   "metadata": {}
  },
  {
   "cell_type": "code",
   "execution_count": 34,
   "source": [
    "device = torch.device(\"cuda\" if torch.cuda.is_available() else \"cpu\")\n",
    "device"
   ],
   "outputs": [
    {
     "output_type": "execute_result",
     "data": {
      "text/plain": [
       "device(type='cuda')"
      ]
     },
     "metadata": {},
     "execution_count": 34
    }
   ],
   "metadata": {}
  },
  {
   "cell_type": "markdown",
   "source": [
    "# Model"
   ],
   "metadata": {}
  },
  {
   "cell_type": "code",
   "execution_count": 35,
   "source": [
    "def count_parameters(model):\n",
    "    return sum(p.numel() for p in model.parameters() if p.requires_grad)"
   ],
   "outputs": [],
   "metadata": {}
  },
  {
   "cell_type": "code",
   "execution_count": 37,
   "source": [
    "def conv3x3(in_channels, out_channels): # not change resolusion\n",
    "    return nn.Conv2d(in_channels, out_channels, kernel_size=3, stride=1, padding=1, dilation=1, bias=False)\n",
    "\n",
    "def conv1x1(in_channels, out_channels): # not change resolusion \n",
    "    return nn.Conv2d(in_channels, out_channels, kernel_size=1, stride=1, padding=0, dilation=1, bias=False)\n",
    "\n",
    "def init_weight(m):\n",
    "    classname = m.__class__.__name__\n",
    "    if classname.find('Conv') != -1:\n",
    "        nn.init.orthogonal_(m.weight, gain=1)\n",
    "        if m.bias is not None:\n",
    "            m.bias.data.zero_()\n",
    "    \n",
    "    elif classname.find('Batch') != -1:\n",
    "        m.weight.data.normal_(1, 0.02)\n",
    "        m.bias.data.zero_()\n",
    "\n",
    "    elif classname.fine('Linear') != -1:\n",
    "        nn.init.orthogonal_(m.weight, gain=1)\n",
    "        if m.bias is not None:\n",
    "            m.bias.data.zero_()\n",
    "\n",
    "    elif classname.find('Embedding') != -1:\n",
    "        nn.init.orthogonal_(m.weight, gain=1)\n",
    "\n",
    "class Attention(nn.Module):\n",
    "    def __init__(self, channels):\n",
    "        super().__init__()\n",
    "        self.channels = channels\n",
    "        self.theta = nn.utils.spectral_norm(conv1x1(channels, channels // 8)).apply(init_weight)\n",
    "        self.phi = nn.utils.spectral_norm(conv1x1(channels, channels // 8)).apply(init_weight)\n",
    "\n",
    "        self.g = nn.utils.spectral_norm(conv1x1(channels, channels // 2)).apply(init_weight)\n",
    "        self.o = nn.utils.spectral_norm(conv1x1(channels // 2, channels)).apply(init_weight)\n",
    "\n",
    "        self.gamma = nn.Parameter(torch.tensor(0.), requires_grad=True)\n",
    "\n",
    "    def forward(self, inputs):\n",
    "        batch, c, h, w = inputs.size()\n",
    "\n",
    "        theta = self.theta(inputs) # (*, c/8, h, w)\n",
    "        phi = F.max_pool2d(self.phi(inputs), [2, 2]) # (*, c/8, h/2, w/2)\n",
    "        g = F.max_pool2d(self.g(inputs), [2, 2]) # (*, c/2, h/2, w/2)\n",
    "\n",
    "        theta = theta.view(batch, self.channels // 8, -1) # (*, c/8, h*w)\n",
    "        phi = phi.view(batch, self.channels // 8, -1) # (*, c/8, h*w/4)\n",
    "        g = g.view(batch, self.channels // 2, -1) # (*, c/2, h*w/4)\n",
    "\n",
    "        beta = F.softmax(torch.bmm(theta.transpose(1, 2), phi), -1) # (*, h*w, h*w/4)\n",
    "        o = self.o(torch.bmm(g, beta.transpose(1, 2)).view(batch, self.channels//2, h, w)) # (*, c, h, w)\n",
    "\n",
    "        return self.gamma * o + inputs\n",
    "\n",
    "class ConditionalNorm(nn.Module):\n",
    "    def __init__(self, in_channel, n_condition):\n",
    "        super().__init__()\n",
    "        self.bn = nn.BatchNorm2d(in_channel, affine=False) # no learning parameters\n",
    "        self.embed = nn.Linear(n_condition, in_channel * 2)\n",
    "\n",
    "        nn.init.orthogonal_(self.embed.weight.data[:, :in_channel], gain=1)\n",
    "        self.embed.weight.data[:, in_channel:].zero_()\n",
    "\n",
    "    def forward(self, inputs, label):\n",
    "        out = self.bn(inputs)\n",
    "        embed = self.embed(label.float())\n",
    "        gamma, beta = embed.chunk(2, dim=1)\n",
    "        gamma = gamma.unsqueeze(2).unsqueeze(3)\n",
    "        beta = beta.unsqueeze(2).unsqueeze(3)\n",
    "        out = gamma * out + beta\n",
    "\n",
    "        return out"
   ],
   "outputs": [],
   "metadata": {}
  },
  {
   "cell_type": "code",
   "execution_count": null,
   "source": [
    "# BigGAN + leaky_relu\n",
    "class ResBlock_G(nn.Module):\n",
    "    def __init__(self, in_channel, out_channel, condition_dim, upsample=True):\n",
    "        super().__init__()\n",
    "        self.cbn1 = ConditionalNorm(in_channel, condition_dim)\n",
    "        self.upsample = nn.Sequential()\n",
    "        if upsample:\n",
    "            self.upsample.add_module('upsample', nn.Upsample(scale_factor=2, mode='nearest'))\n",
    "\n",
    "        self.conv3x3_1 = nn.utils.spectral_norm(conv3x3(in_channel, out_channel)).apply(init_weight)\n",
    "        self.cbn2 = ConditionalNorm(out_channel, condition_dim)\n",
    "        self.conv3x3_2 = nn.utils.spectral_norm(conv3x3(out_channel, out_channel)).apply(init_weight)\n",
    "        self.conv1x1 = nn.utils.spectral_norm(conv1x1(in_channel, out_channel)).apply(init_weight)\n",
    "\n",
    "    def forward(self, inputs, condition):\n",
    "        x = F.leaky_relu(self.cbn1(inputs, condition))\n",
    "        x = self.upsample(x)\n",
    "        x = self.conv3x3_1(x)\n",
    "        x = self.conv3x3_2(F.leaky_relu(self.cbn2(x, condition)))\n",
    "        x += self.conv1x1(self.upsample(inputs)) # shortcut\n",
    "        return x \n",
    "\n",
    "class Generator(nn.Module):\n",
    "    def __init__(self, n_feat, codes_dim=24, n_classes=n_classes):\n",
    "        super().__init__()\n",
    "        self.fc = nn.Sequential(\n",
    "            nn.utils.spectral_norm(nn.Linear(codes_dim, 16*n_feat*4*4)).apply(init_weight)\n",
    "        )\n",
    "        self.res1 = ResBlock_G(16*n_feat, 16*n_feat, codes_dim+n_classes, upsample=True)\n",
    "        self.res2 = ResBlock_G(16*n_feat, 8*n_feat, codes_dim+n_classes, upsample=True)\n",
    "        self.res3 = ResBlock_G(8*n_feat, 4*n_feat, codes_dim+n_classes, upsample=True)\n",
    "        \n",
    "        self.attn = Attention(4*n_feat)\n",
    "\n",
    "        self.res4 = ResBlock_G(4*n_feat, 2*n_feat, codes_dim+n_classes, upsample=True)\n",
    "\n",
    "        self.conv = nn.Sequential(\n",
    "            nn.LeakyReLU(),\n",
    "            nn.utils.spectral_norm(conv3x3(2*n_feat, 3)).apply(init_weight)\n",
    "        )\n",
    "\n",
    "    def forward(self, z, label_ohe, codes_dim=24):\n",
    "        '''\n",
    "        z.shape = (*, 120)\n",
    "        label_ohe.shape = (*, n_classes)\n",
    "\n",
    "        Args:\n",
    "            z ([type]): [description]\n",
    "            label_ohe ([type]): [description]\n",
    "            codes_dim (int, optional): [description]. Defaults to 24.\n",
    "        '''\n",
    "        batch = z.size(0)\n",
    "        z = z.squeeze()\n",
    "        label_ohe = label_ohe.squeeze()\n",
    "        codes = torch.split(z, codes_dim, dim=1)\n",
    "\n",
    "        x = self.fc(codes[0]) # (*, 16ch*4*4)\n",
    "        x = x.view(batch, -1, 4, 4) # (*, 16ch, 4, 4)\n",
    "\n",
    "        condition = torch.cat()\n",
    "        # todo\n"
   ],
   "outputs": [],
   "metadata": {}
  }
 ],
 "metadata": {
  "orig_nbformat": 4,
  "language_info": {
   "name": "python",
   "version": "3.7.10",
   "mimetype": "text/x-python",
   "codemirror_mode": {
    "name": "ipython",
    "version": 3
   },
   "pygments_lexer": "ipython3",
   "nbconvert_exporter": "python",
   "file_extension": ".py"
  },
  "kernelspec": {
   "name": "python3",
   "display_name": "Python 3.7.10 64-bit ('base': conda)"
  },
  "interpreter": {
   "hash": "39bb97b9402fe54965182cdecdf1de398681b71a98db533a4cd01c0e11e7c257"
  }
 },
 "nbformat": 4,
 "nbformat_minor": 2
}